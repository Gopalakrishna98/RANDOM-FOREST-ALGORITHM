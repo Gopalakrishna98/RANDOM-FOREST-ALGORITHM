{
 "cells": [
  {
   "cell_type": "code",
   "execution_count": 1,
   "metadata": {},
   "outputs": [],
   "source": [
    "from sklearn.decomposition import PCA\n",
    "import numpy as np \n",
    "import pandas as pd\n",
    "import matplotlib.pyplot as plt\n",
    "from pandas_profiling import ProfileReport\n",
    "from sklearn.tree import DecisionTreeClassifier\n",
    "from sklearn.ensemble import RandomForestRegressor\n",
    "from sklearn.ensemble import RandomForestClassifier\n",
    "from sklearn.model_selection import train_test_split\n",
    "from sklearn import metrics\n",
    "#import scikit-learn metrics module for accuracy calculation \n",
    "import seaborn as sns\n",
    "from sklearn.linear_model import LogisticRegression\n",
    "from sklearn.preprocessing import StandardScaler"
   ]
  },
  {
   "cell_type": "markdown",
   "metadata": {},
   "source": [
    "## RANDOM FOREST CLASSIFIER"
   ]
  },
  {
   "cell_type": "code",
   "execution_count": 2,
   "metadata": {},
   "outputs": [
    {
     "data": {
      "text/html": [
       "<div>\n",
       "<style scoped>\n",
       "    .dataframe tbody tr th:only-of-type {\n",
       "        vertical-align: middle;\n",
       "    }\n",
       "\n",
       "    .dataframe tbody tr th {\n",
       "        vertical-align: top;\n",
       "    }\n",
       "\n",
       "    .dataframe thead th {\n",
       "        text-align: right;\n",
       "    }\n",
       "</style>\n",
       "<table border=\"1\" class=\"dataframe\">\n",
       "  <thead>\n",
       "    <tr style=\"text-align: right;\">\n",
       "      <th></th>\n",
       "      <th>Pregnancies</th>\n",
       "      <th>Glucose</th>\n",
       "      <th>BloodPressure</th>\n",
       "      <th>SkinThickness</th>\n",
       "      <th>Insulin</th>\n",
       "      <th>BMI</th>\n",
       "      <th>DiabetesPedigreeFunction</th>\n",
       "      <th>Age</th>\n",
       "      <th>Outcome</th>\n",
       "    </tr>\n",
       "  </thead>\n",
       "  <tbody>\n",
       "    <tr>\n",
       "      <th>0</th>\n",
       "      <td>6</td>\n",
       "      <td>148</td>\n",
       "      <td>72</td>\n",
       "      <td>35</td>\n",
       "      <td>0</td>\n",
       "      <td>33.6</td>\n",
       "      <td>0.627</td>\n",
       "      <td>50</td>\n",
       "      <td>1</td>\n",
       "    </tr>\n",
       "    <tr>\n",
       "      <th>1</th>\n",
       "      <td>1</td>\n",
       "      <td>85</td>\n",
       "      <td>66</td>\n",
       "      <td>29</td>\n",
       "      <td>0</td>\n",
       "      <td>26.6</td>\n",
       "      <td>0.351</td>\n",
       "      <td>31</td>\n",
       "      <td>0</td>\n",
       "    </tr>\n",
       "    <tr>\n",
       "      <th>2</th>\n",
       "      <td>8</td>\n",
       "      <td>183</td>\n",
       "      <td>64</td>\n",
       "      <td>0</td>\n",
       "      <td>0</td>\n",
       "      <td>23.3</td>\n",
       "      <td>0.672</td>\n",
       "      <td>32</td>\n",
       "      <td>1</td>\n",
       "    </tr>\n",
       "  </tbody>\n",
       "</table>\n",
       "</div>"
      ],
      "text/plain": [
       "   Pregnancies  Glucose  BloodPressure  SkinThickness  Insulin   BMI  \\\n",
       "0            6      148             72             35        0  33.6   \n",
       "1            1       85             66             29        0  26.6   \n",
       "2            8      183             64              0        0  23.3   \n",
       "\n",
       "   DiabetesPedigreeFunction  Age  Outcome  \n",
       "0                     0.627   50        1  \n",
       "1                     0.351   31        0  \n",
       "2                     0.672   32        1  "
      ]
     },
     "execution_count": 2,
     "metadata": {},
     "output_type": "execute_result"
    }
   ],
   "source": [
    "data=pd.read_csv('diabetes.csv')\n",
    "data.head(3)"
   ]
  },
  {
   "cell_type": "code",
   "execution_count": 3,
   "metadata": {},
   "outputs": [],
   "source": [
    "x=data[[col for col in data.columns if col!='Outcome']]\n",
    "y=data['Outcome']"
   ]
  },
  {
   "cell_type": "code",
   "execution_count": 4,
   "metadata": {},
   "outputs": [],
   "source": [
    "x_train,x_test,y_train,y_test=train_test_split(x,y,test_size=0.3)"
   ]
  },
  {
   "cell_type": "code",
   "execution_count": 5,
   "metadata": {},
   "outputs": [],
   "source": [
    "model=RandomForestClassifier(100)\n",
    "model.max_features=4#(for taking the features)\n",
    "model=model.fit(x_train,y_train)"
   ]
  },
  {
   "cell_type": "code",
   "execution_count": 6,
   "metadata": {},
   "outputs": [],
   "source": [
    "y_test_pred=model.predict(x_test)"
   ]
  },
  {
   "cell_type": "code",
   "execution_count": 7,
   "metadata": {},
   "outputs": [
    {
     "data": {
      "text/plain": [
       "0.7705627705627706"
      ]
     },
     "execution_count": 7,
     "metadata": {},
     "output_type": "execute_result"
    }
   ],
   "source": [
    "metrics.accuracy_score(y_test,y_test_pred)"
   ]
  },
  {
   "cell_type": "code",
   "execution_count": 8,
   "metadata": {},
   "outputs": [
    {
     "name": "stdout",
     "output_type": "stream",
     "text": [
      "0 0.7239583333333334\n",
      "**********\n",
      "1 0.7135416666666666\n",
      "**********\n",
      "2 0.71875\n",
      "**********\n",
      "3 0.7239583333333334\n",
      "**********\n",
      "4 0.7135416666666666\n",
      "**********\n",
      "5 0.7083333333333334\n",
      "**********\n",
      "6 0.7239583333333334\n",
      "**********\n",
      "7 0.71875\n",
      "**********\n",
      "8 0.7239583333333334\n",
      "**********\n",
      "9 0.703125\n",
      "**********\n"
     ]
    }
   ],
   "source": [
    "for i in range (10):\n",
    "            from sklearn.model_selection import train_test_split\n",
    "            x_train,x_test,y_train,y_test=train_test_split(x,y,test_size=0.25,random_state=45)\n",
    "            model=DecisionTreeClassifier(criterion='entropy',min_samples_split=5)\n",
    "            model=model.fit(x_train,y_train)\n",
    "            y_test_pred=model.predict(x_test)\n",
    "            print(i,metrics.accuracy_score(y_test,y_test_pred))\n",
    "            print('*'*10)"
   ]
  },
  {
   "cell_type": "code",
   "execution_count": 9,
   "metadata": {},
   "outputs": [
    {
     "name": "stdout",
     "output_type": "stream",
     "text": [
      "0 0.75\n",
      "**********\n",
      "1 0.7291666666666666\n",
      "**********\n",
      "2 0.7447916666666666\n",
      "**********\n",
      "3 0.71875\n",
      "**********\n",
      "4 0.71875\n",
      "**********\n",
      "5 0.734375\n",
      "**********\n",
      "6 0.71875\n",
      "**********\n",
      "7 0.734375\n",
      "**********\n",
      "8 0.7239583333333334\n",
      "**********\n",
      "9 0.75\n",
      "**********\n"
     ]
    }
   ],
   "source": [
    "for i in range (10):\n",
    "            from sklearn.model_selection import train_test_split\n",
    "            x_train,x_test,y_train,y_test=train_test_split(x,y,test_size=0.25,random_state=45)\n",
    "            model=RandomForestClassifier(10)\n",
    "            model=model.fit(x_train,y_train)\n",
    "            y_test_pred=model.predict(x_test)\n",
    "            print(i,metrics.accuracy_score(y_test,y_test_pred))\n",
    "            print('*'*10)"
   ]
  },
  {
   "cell_type": "markdown",
   "metadata": {},
   "source": [
    "## RANDOM FOREST REGRESSOR"
   ]
  },
  {
   "cell_type": "code",
   "execution_count": 10,
   "metadata": {},
   "outputs": [
    {
     "data": {
      "text/html": [
       "<div>\n",
       "<style scoped>\n",
       "    .dataframe tbody tr th:only-of-type {\n",
       "        vertical-align: middle;\n",
       "    }\n",
       "\n",
       "    .dataframe tbody tr th {\n",
       "        vertical-align: top;\n",
       "    }\n",
       "\n",
       "    .dataframe thead th {\n",
       "        text-align: right;\n",
       "    }\n",
       "</style>\n",
       "<table border=\"1\" class=\"dataframe\">\n",
       "  <thead>\n",
       "    <tr style=\"text-align: right;\">\n",
       "      <th></th>\n",
       "      <th>age</th>\n",
       "      <th>sex</th>\n",
       "      <th>bmi</th>\n",
       "      <th>bp</th>\n",
       "      <th>s1</th>\n",
       "      <th>s2</th>\n",
       "      <th>s3</th>\n",
       "      <th>s4</th>\n",
       "      <th>s5</th>\n",
       "      <th>s6</th>\n",
       "      <th>target</th>\n",
       "    </tr>\n",
       "  </thead>\n",
       "  <tbody>\n",
       "    <tr>\n",
       "      <th>0</th>\n",
       "      <td>0.038076</td>\n",
       "      <td>0.050680</td>\n",
       "      <td>0.061696</td>\n",
       "      <td>0.021872</td>\n",
       "      <td>-0.044223</td>\n",
       "      <td>-0.034821</td>\n",
       "      <td>-0.043401</td>\n",
       "      <td>-0.002592</td>\n",
       "      <td>0.019908</td>\n",
       "      <td>-0.017646</td>\n",
       "      <td>151.0</td>\n",
       "    </tr>\n",
       "    <tr>\n",
       "      <th>1</th>\n",
       "      <td>-0.001882</td>\n",
       "      <td>-0.044642</td>\n",
       "      <td>-0.051474</td>\n",
       "      <td>-0.026328</td>\n",
       "      <td>-0.008449</td>\n",
       "      <td>-0.019163</td>\n",
       "      <td>0.074412</td>\n",
       "      <td>-0.039493</td>\n",
       "      <td>-0.068330</td>\n",
       "      <td>-0.092204</td>\n",
       "      <td>75.0</td>\n",
       "    </tr>\n",
       "    <tr>\n",
       "      <th>2</th>\n",
       "      <td>0.085299</td>\n",
       "      <td>0.050680</td>\n",
       "      <td>0.044451</td>\n",
       "      <td>-0.005671</td>\n",
       "      <td>-0.045599</td>\n",
       "      <td>-0.034194</td>\n",
       "      <td>-0.032356</td>\n",
       "      <td>-0.002592</td>\n",
       "      <td>0.002864</td>\n",
       "      <td>-0.025930</td>\n",
       "      <td>141.0</td>\n",
       "    </tr>\n",
       "  </tbody>\n",
       "</table>\n",
       "</div>"
      ],
      "text/plain": [
       "        age       sex       bmi        bp        s1        s2        s3  \\\n",
       "0  0.038076  0.050680  0.061696  0.021872 -0.044223 -0.034821 -0.043401   \n",
       "1 -0.001882 -0.044642 -0.051474 -0.026328 -0.008449 -0.019163  0.074412   \n",
       "2  0.085299  0.050680  0.044451 -0.005671 -0.045599 -0.034194 -0.032356   \n",
       "\n",
       "         s4        s5        s6  target  \n",
       "0 -0.002592  0.019908 -0.017646   151.0  \n",
       "1 -0.039493 -0.068330 -0.092204    75.0  \n",
       "2 -0.002592  0.002864 -0.025930   141.0  "
      ]
     },
     "execution_count": 10,
     "metadata": {},
     "output_type": "execute_result"
    }
   ],
   "source": [
    "data=pd.read_csv('diabetes_reg_data.csv')\n",
    "data.head(3)"
   ]
  },
  {
   "cell_type": "code",
   "execution_count": 11,
   "metadata": {},
   "outputs": [],
   "source": [
    "x_train,x_test,y_train,y_test=train_test_split(data.iloc[:,:-1],data.iloc[:,-1],test_size=0.3)"
   ]
  },
  {
   "cell_type": "code",
   "execution_count": 12,
   "metadata": {},
   "outputs": [],
   "source": [
    "model=RandomForestRegressor(n_estimators=1000,min_samples_split=2)\n",
    "model=model.fit(x_train,y_train)"
   ]
  },
  {
   "cell_type": "code",
   "execution_count": 13,
   "metadata": {},
   "outputs": [],
   "source": [
    "y_pred=model.predict(x_test)"
   ]
  },
  {
   "cell_type": "code",
   "execution_count": 14,
   "metadata": {},
   "outputs": [
    {
     "data": {
      "text/plain": [
       "3353.690368518797"
      ]
     },
     "execution_count": 14,
     "metadata": {},
     "output_type": "execute_result"
    }
   ],
   "source": [
    "metrics.mean_squared_error(y_pred,y_test)"
   ]
  },
  {
   "cell_type": "code",
   "execution_count": 15,
   "metadata": {},
   "outputs": [
    {
     "data": {
      "text/plain": [
       "0.403418222605297"
      ]
     },
     "execution_count": 15,
     "metadata": {},
     "output_type": "execute_result"
    }
   ],
   "source": [
    "np.mean(np.abs(y_pred-y_test)/y_test)"
   ]
  },
  {
   "cell_type": "code",
   "execution_count": 16,
   "metadata": {},
   "outputs": [
    {
     "name": "stdout",
     "output_type": "stream",
     "text": [
      "0 3224.7478947368427\n",
      "0 43.92255639097745\n",
      "0 0.38031496283206867\n",
      "**********\n",
      "1 3085.5703007518796\n",
      "1 44.18721804511278\n",
      "1 0.37471863530081\n",
      "**********\n",
      "2 3239.4599248120303\n",
      "2 46.142105263157895\n",
      "2 0.38806568361105037\n",
      "**********\n",
      "3 3128.766015037594\n",
      "3 44.777443609022555\n",
      "3 0.38212525966338473\n",
      "**********\n",
      "4 3220.5084962406017\n",
      "4 44.31203007518797\n",
      "4 0.3746618999698089\n",
      "**********\n",
      "5 3757.178270676691\n",
      "5 48.02932330827068\n",
      "5 0.4093590419015133\n",
      "**********\n",
      "6 3363.3890977443607\n",
      "6 45.85187969924812\n",
      "6 0.38789513171318624\n",
      "**********\n",
      "7 3025.7720300751885\n",
      "7 44.018045112781955\n",
      "7 0.38229927482228365\n",
      "**********\n",
      "8 3611.710526315789\n",
      "8 47.724812030075185\n",
      "8 0.3940383982477101\n",
      "**********\n",
      "9 3636.396090225564\n",
      "9 48.75187969924812\n",
      "9 0.3930385675427584\n",
      "**********\n"
     ]
    }
   ],
   "source": [
    "for i in range (10):\n",
    "            from sklearn.model_selection import train_test_split\n",
    "            x_train,x_test,y_train,y_test=train_test_split(data.iloc[:,:-1],data.iloc[:,-1],test_size=0.3,random_state=45)\n",
    "            model=RandomForestRegressor(10)\n",
    "            model=model.fit(x_train,y_train)\n",
    "            y_test_pred=model.predict(x_test)\n",
    "            print(i,metrics.mean_squared_error(y_test,y_test_pred))\n",
    "            print(i,metrics.mean_absolute_error(y_test,y_test_pred))\n",
    "            print(i,np.mean(np.abs(y_test_pred-y_test)/y_test))\n",
    "            print('*'*10)"
   ]
  },
  {
   "cell_type": "code",
   "execution_count": 17,
   "metadata": {},
   "outputs": [],
   "source": [
    "from sklearn.tree import DecisionTreeRegressor\n"
   ]
  },
  {
   "cell_type": "code",
   "execution_count": 18,
   "metadata": {},
   "outputs": [
    {
     "name": "stdout",
     "output_type": "stream",
     "text": [
      "0 6271.954887218045\n",
      "0 61.96992481203007\n",
      "0 0.5256010362118828\n",
      "**********\n",
      "1 6237.849624060151\n",
      "1 61.984962406015036\n",
      "1 0.5308781523333288\n",
      "**********\n",
      "2 6119.8646616541355\n",
      "2 60.932330827067666\n",
      "2 0.5012378539225155\n",
      "**********\n",
      "3 6299.2180451127815\n",
      "3 62.70676691729323\n",
      "3 0.5330406149457547\n",
      "**********\n",
      "4 6596.278195488721\n",
      "4 63.51127819548872\n",
      "4 0.5398183498706532\n",
      "**********\n",
      "5 5921.233082706767\n",
      "5 58.69172932330827\n",
      "5 0.4951416387783399\n",
      "**********\n",
      "6 6249.744360902256\n",
      "6 60.64661654135338\n",
      "6 0.5181564954335584\n",
      "**********\n",
      "7 5784.661654135339\n",
      "7 60.721804511278194\n",
      "7 0.5194542459424812\n",
      "**********\n",
      "8 6562.87969924812\n",
      "8 63.661654135338345\n",
      "8 0.546255749634069\n",
      "**********\n",
      "9 5891.706766917293\n",
      "9 58.62406015037594\n",
      "9 0.5021078347537896\n",
      "**********\n"
     ]
    }
   ],
   "source": [
    "for i in range (10):\n",
    "            from sklearn.model_selection import train_test_split\n",
    "            x_train,x_test,y_train,y_test=train_test_split(data.iloc[:,:-1],data.iloc[:,-1],test_size=0.3,random_state=45)\n",
    "            model=DecisionTreeRegressor(criterion='mse',min_samples_split=2)\n",
    "            model=model.fit(x_train,y_train)\n",
    "            y_test_pred=model.predict(x_test)\n",
    "            print(i,metrics.mean_squared_error(y_test,y_test_pred))\n",
    "            print(i,metrics.mean_absolute_error(y_test,y_test_pred))\n",
    "            print(i,np.mean(np.abs(y_test_pred-y_test)/y_test))\n",
    "            print('*'*10)"
   ]
  },
  {
   "cell_type": "markdown",
   "metadata": {},
   "source": [
    "## DIABETES CLASSIFIER DATA"
   ]
  },
  {
   "cell_type": "code",
   "execution_count": 19,
   "metadata": {},
   "outputs": [],
   "source": [
    "data=pd.read_csv('diabetes.csv')"
   ]
  },
  {
   "cell_type": "code",
   "execution_count": 23,
   "metadata": {},
   "outputs": [
    {
     "name": "stdout",
     "output_type": "stream",
     "text": [
      "train accu 0.9756944444444444\n",
      "train accu 0.984375\n",
      "train accu 0.984375\n",
      "train accu 0.9809027777777778\n",
      "train accu 0.9809027777777778\n",
      "train accu 0.9861111111111112\n",
      "train accu 0.9861111111111112\n",
      "train accu 0.9826388888888888\n",
      "train accu 0.9809027777777778\n",
      "train accu 0.9878472222222222\n",
      "train accu 0.9809027777777778\n",
      "train accu 0.9791666666666666\n",
      "train accu 0.9826388888888888\n",
      "train accu 0.9826388888888888\n",
      "train accu 0.9895833333333334\n",
      "train accu 0.9861111111111112\n",
      "train accu 0.9826388888888888\n",
      "train accu 0.9878472222222222\n",
      "train accu 0.9809027777777778\n",
      "train accu 0.9878472222222222\n",
      "train accu 0.9895833333333334\n",
      "train accu 0.9895833333333334\n",
      "train accu 0.9861111111111112\n",
      "train accu 0.984375\n",
      "train accu 0.9791666666666666\n",
      "train accu 0.9878472222222222\n",
      "train accu 0.9826388888888888\n",
      "train accu 0.9774305555555556\n",
      "train accu 0.9895833333333334\n",
      "train accu 0.9861111111111112\n"
     ]
    }
   ],
   "source": [
    "l1=[]\n",
    "for i in range (30):\n",
    "            from sklearn.model_selection import train_test_split\n",
    "            x_train,x_test,y_train,y_test=train_test_split(data.iloc[:,:-1],data.iloc[:,-1],test_size=0.25,random_state=45)\n",
    "            model=RandomForestClassifier(10)\n",
    "            model=model.fit(x_train,y_train)\n",
    "            y_train_pred=model.predict(x_train)\n",
    "            y_test_pred=model.predict(x_test)\n",
    "            print('train accu' , metrics.accuracy_score(y_train,y_train_pred))\n",
    "            l1.append(metrics.accuracy_score(y_test,y_test_pred))\n",
    "            "
   ]
  },
  {
   "cell_type": "code",
   "execution_count": 24,
   "metadata": {},
   "outputs": [
    {
     "name": "stdout",
     "output_type": "stream",
     "text": [
      "train accu 1.0\n",
      "train accu 1.0\n",
      "train accu 1.0\n",
      "train accu 1.0\n",
      "train accu 1.0\n",
      "train accu 1.0\n",
      "train accu 1.0\n",
      "train accu 1.0\n",
      "train accu 1.0\n",
      "train accu 1.0\n",
      "train accu 1.0\n",
      "train accu 1.0\n",
      "train accu 1.0\n",
      "train accu 1.0\n",
      "train accu 1.0\n",
      "train accu 1.0\n",
      "train accu 1.0\n",
      "train accu 1.0\n",
      "train accu 1.0\n",
      "train accu 1.0\n",
      "train accu 1.0\n",
      "train accu 1.0\n",
      "train accu 1.0\n",
      "train accu 1.0\n",
      "train accu 1.0\n",
      "train accu 1.0\n",
      "train accu 1.0\n",
      "train accu 1.0\n",
      "train accu 1.0\n",
      "train accu 1.0\n"
     ]
    }
   ],
   "source": [
    "l2=[]\n",
    "for i in range (30):\n",
    "            from sklearn.model_selection import train_test_split\n",
    "            x_train,x_test,y_train,y_test=train_test_split(data.iloc[:,:-1],data.iloc[:,-1],test_size=0.25,random_state=45)\n",
    "            model=DecisionTreeClassifier(criterion='gini')\n",
    "            model=model.fit(x_train,y_train)\n",
    "            y_train_pred=model.predict(x_train)\n",
    "            y_test_pred=model.predict(x_test)\n",
    "            print('train accu' , metrics.accuracy_score(y_train,y_train_pred))\n",
    "            l2.append(metrics.accuracy_score(y_test,y_test_pred))\n",
    "            "
   ]
  },
  {
   "cell_type": "code",
   "execution_count": 42,
   "metadata": {},
   "outputs": [],
   "source": [
    "dat=pd.DataFrame(columns=['f1','f2'])\n",
    "dat['f1']=l1+l2\n",
    "dat['f2']=['RF']*30+['DT']*30"
   ]
  },
  {
   "cell_type": "code",
   "execution_count": 43,
   "metadata": {},
   "outputs": [
    {
     "data": {
      "text/html": [
       "<div>\n",
       "<style scoped>\n",
       "    .dataframe tbody tr th:only-of-type {\n",
       "        vertical-align: middle;\n",
       "    }\n",
       "\n",
       "    .dataframe tbody tr th {\n",
       "        vertical-align: top;\n",
       "    }\n",
       "\n",
       "    .dataframe thead th {\n",
       "        text-align: right;\n",
       "    }\n",
       "</style>\n",
       "<table border=\"1\" class=\"dataframe\">\n",
       "  <thead>\n",
       "    <tr style=\"text-align: right;\">\n",
       "      <th></th>\n",
       "      <th>f1</th>\n",
       "      <th>f2</th>\n",
       "    </tr>\n",
       "  </thead>\n",
       "  <tbody>\n",
       "    <tr>\n",
       "      <th>0</th>\n",
       "      <td>0.723958</td>\n",
       "      <td>RF</td>\n",
       "    </tr>\n",
       "    <tr>\n",
       "      <th>1</th>\n",
       "      <td>0.692708</td>\n",
       "      <td>RF</td>\n",
       "    </tr>\n",
       "    <tr>\n",
       "      <th>2</th>\n",
       "      <td>0.750000</td>\n",
       "      <td>RF</td>\n",
       "    </tr>\n",
       "  </tbody>\n",
       "</table>\n",
       "</div>"
      ],
      "text/plain": [
       "         f1  f2\n",
       "0  0.723958  RF\n",
       "1  0.692708  RF\n",
       "2  0.750000  RF"
      ]
     },
     "execution_count": 43,
     "metadata": {},
     "output_type": "execute_result"
    }
   ],
   "source": [
    "dat.head(3)"
   ]
  },
  {
   "cell_type": "code",
   "execution_count": 44,
   "metadata": {},
   "outputs": [
    {
     "data": {
      "text/plain": [
       "<matplotlib.axes._subplots.AxesSubplot at 0x1c4319ae278>"
      ]
     },
     "execution_count": 44,
     "metadata": {},
     "output_type": "execute_result"
    },
    {
     "data": {
      "image/png": "[encoded data removed]",
      "text/plain": [
       "<Figure size 432x288 with 1 Axes>"
      ]
     },
     "metadata": {
      "needs_background": "light"
     },
     "output_type": "display_data"
    }
   ],
   "source": [
    "sns.boxplot(dat['f2'],dat['f1'])"
   ]
  },
  {
   "cell_type": "code",
   "execution_count": null,
   "metadata": {},
   "outputs": [],
   "source": []
  },
  {
   "cell_type": "markdown",
   "metadata": {},
   "source": [
    "## FUN DATA"
   ]
  },
  {
   "cell_type": "code",
   "execution_count": 57,
   "metadata": {},
   "outputs": [
    {
     "data": {
      "text/html": [
       "<div>\n",
       "<style scoped>\n",
       "    .dataframe tbody tr th:only-of-type {\n",
       "        vertical-align: middle;\n",
       "    }\n",
       "\n",
       "    .dataframe tbody tr th {\n",
       "        vertical-align: top;\n",
       "    }\n",
       "\n",
       "    .dataframe thead th {\n",
       "        text-align: right;\n",
       "    }\n",
       "</style>\n",
       "<table border=\"1\" class=\"dataframe\">\n",
       "  <thead>\n",
       "    <tr style=\"text-align: right;\">\n",
       "      <th></th>\n",
       "      <th>f1</th>\n",
       "      <th>f2</th>\n",
       "      <th>f3</th>\n",
       "      <th>class</th>\n",
       "    </tr>\n",
       "  </thead>\n",
       "  <tbody>\n",
       "    <tr>\n",
       "      <th>0</th>\n",
       "      <td>8.477937</td>\n",
       "      <td>0.436289</td>\n",
       "      <td>40.389470</td>\n",
       "      <td>1</td>\n",
       "    </tr>\n",
       "    <tr>\n",
       "      <th>1</th>\n",
       "      <td>6.704407</td>\n",
       "      <td>6.237227</td>\n",
       "      <td>65.349761</td>\n",
       "      <td>1</td>\n",
       "    </tr>\n",
       "    <tr>\n",
       "      <th>2</th>\n",
       "      <td>4.835130</td>\n",
       "      <td>4.500931</td>\n",
       "      <td>52.093300</td>\n",
       "      <td>1</td>\n",
       "    </tr>\n",
       "  </tbody>\n",
       "</table>\n",
       "</div>"
      ],
      "text/plain": [
       "         f1        f2         f3  class\n",
       "0  8.477937  0.436289  40.389470      1\n",
       "1  6.704407  6.237227  65.349761      1\n",
       "2  4.835130  4.500931  52.093300      1"
      ]
     },
     "execution_count": 57,
     "metadata": {},
     "output_type": "execute_result"
    }
   ],
   "source": [
    "data=pd.read_csv('fun data.csv')\n",
    "data.head(3)"
   ]
  },
  {
   "cell_type": "code",
   "execution_count": 58,
   "metadata": {},
   "outputs": [
    {
     "name": "stdout",
     "output_type": "stream",
     "text": [
      "train accu 0.9866666666666667\n",
      "train accu 0.98\n",
      "train accu 0.9933333333333333\n",
      "train accu 0.9466666666666667\n",
      "train accu 0.9666666666666667\n",
      "train accu 0.9866666666666667\n",
      "train accu 0.98\n",
      "train accu 0.98\n",
      "train accu 0.96\n",
      "train accu 0.9666666666666667\n",
      "train accu 0.9866666666666667\n",
      "train accu 0.9933333333333333\n",
      "train accu 0.9733333333333334\n",
      "train accu 0.9666666666666667\n",
      "train accu 0.98\n",
      "train accu 0.9933333333333333\n",
      "train accu 0.9866666666666667\n",
      "train accu 0.96\n",
      "train accu 0.96\n",
      "train accu 0.9733333333333334\n",
      "train accu 0.9533333333333334\n",
      "train accu 0.9733333333333334\n",
      "train accu 0.9933333333333333\n",
      "train accu 0.9666666666666667\n",
      "train accu 0.9933333333333333\n",
      "train accu 0.96\n",
      "train accu 0.98\n",
      "train accu 0.98\n",
      "train accu 0.96\n",
      "train accu 0.96\n"
     ]
    }
   ],
   "source": [
    "l1=[]\n",
    "for i in range (30):\n",
    "            from sklearn.model_selection import train_test_split\n",
    "            x_train,x_test,y_train,y_test=train_test_split(data.iloc[:,:-1],data.iloc[:,-1],test_size=0.25,random_state=45)\n",
    "            model=RandomForestClassifier(10)\n",
    "            model=model.fit(x_train,y_train)\n",
    "            y_train_pred=model.predict(x_train)\n",
    "            y_test_pred=model.predict(x_test)\n",
    "            print('train accu' , metrics.accuracy_score(y_train,y_train_pred))\n",
    "            l1.append(metrics.accuracy_score(y_test,y_test_pred))\n",
    "            "
   ]
  },
  {
   "cell_type": "code",
   "execution_count": 59,
   "metadata": {},
   "outputs": [
    {
     "name": "stdout",
     "output_type": "stream",
     "text": [
      "train accu 1.0\n",
      "train accu 1.0\n",
      "train accu 1.0\n",
      "train accu 1.0\n",
      "train accu 1.0\n",
      "train accu 1.0\n",
      "train accu 1.0\n",
      "train accu 1.0\n",
      "train accu 1.0\n",
      "train accu 1.0\n",
      "train accu 1.0\n",
      "train accu 1.0\n",
      "train accu 1.0\n",
      "train accu 1.0\n",
      "train accu 1.0\n",
      "train accu 1.0\n",
      "train accu 1.0\n",
      "train accu 1.0\n",
      "train accu 1.0\n",
      "train accu 1.0\n",
      "train accu 1.0\n",
      "train accu 1.0\n",
      "train accu 1.0\n",
      "train accu 1.0\n",
      "train accu 1.0\n",
      "train accu 1.0\n",
      "train accu 1.0\n",
      "train accu 1.0\n",
      "train accu 1.0\n",
      "train accu 1.0\n"
     ]
    }
   ],
   "source": [
    "l2=[]\n",
    "for i in range (30):\n",
    "            from sklearn.model_selection import train_test_split\n",
    "            x_train,x_test,y_train,y_test=train_test_split(data.iloc[:,:-1],data.iloc[:,-1],test_size=0.25,random_state=45)\n",
    "            model=DecisionTreeClassifier(criterion='gini')\n",
    "            model=model.fit(x_train,y_train)\n",
    "            y_train_pred=model.predict(x_train)\n",
    "            y_test_pred=model.predict(x_test)\n",
    "            print('train accu' , metrics.accuracy_score(y_train,y_train_pred))\n",
    "            l2.append(metrics.accuracy_score(y_test,y_test_pred))\n",
    "            "
   ]
  },
  {
   "cell_type": "code",
   "execution_count": 60,
   "metadata": {},
   "outputs": [],
   "source": [
    "dat=pd.DataFrame(columns=['f1','f2'])\n",
    "dat['f1']=l1+l2\n",
    "dat['f2']=['RF']*30+['DT']*30"
   ]
  },
  {
   "cell_type": "code",
   "execution_count": 61,
   "metadata": {},
   "outputs": [
    {
     "data": {
      "text/plain": [
       "<matplotlib.axes._subplots.AxesSubplot at 0x1c431b587f0>"
      ]
     },
     "execution_count": 61,
     "metadata": {},
     "output_type": "execute_result"
    },
    {
     "data": {
      "image/png": "[encoded data removed]",
      "text/plain": [
       "<Figure size 432x288 with 1 Axes>"
      ]
     },
     "metadata": {
      "needs_background": "light"
     },
     "output_type": "display_data"
    }
   ],
   "source": [
    "sns.boxplot(dat['f2'],dat['f1'])"
   ]
  },
  {
   "cell_type": "code",
   "execution_count": null,
   "metadata": {},
   "outputs": [],
   "source": []
  },
  {
   "cell_type": "markdown",
   "metadata": {},
   "source": [
    "## BAGGING ALGORITHM"
   ]
  },
  {
   "cell_type": "code",
   "execution_count": 62,
   "metadata": {},
   "outputs": [],
   "source": [
    "from sklearn.ensemble import bagging"
   ]
  },
  {
   "cell_type": "code",
   "execution_count": 63,
   "metadata": {},
   "outputs": [
    {
     "data": {
      "text/html": [
       "<div>\n",
       "<style scoped>\n",
       "    .dataframe tbody tr th:only-of-type {\n",
       "        vertical-align: middle;\n",
       "    }\n",
       "\n",
       "    .dataframe tbody tr th {\n",
       "        vertical-align: top;\n",
       "    }\n",
       "\n",
       "    .dataframe thead th {\n",
       "        text-align: right;\n",
       "    }\n",
       "</style>\n",
       "<table border=\"1\" class=\"dataframe\">\n",
       "  <thead>\n",
       "    <tr style=\"text-align: right;\">\n",
       "      <th></th>\n",
       "      <th>Pregnancies</th>\n",
       "      <th>Glucose</th>\n",
       "      <th>BloodPressure</th>\n",
       "      <th>SkinThickness</th>\n",
       "      <th>Insulin</th>\n",
       "      <th>BMI</th>\n",
       "      <th>DiabetesPedigreeFunction</th>\n",
       "      <th>Age</th>\n",
       "      <th>Outcome</th>\n",
       "    </tr>\n",
       "  </thead>\n",
       "  <tbody>\n",
       "    <tr>\n",
       "      <th>0</th>\n",
       "      <td>6</td>\n",
       "      <td>148</td>\n",
       "      <td>72</td>\n",
       "      <td>35</td>\n",
       "      <td>0</td>\n",
       "      <td>33.6</td>\n",
       "      <td>0.627</td>\n",
       "      <td>50</td>\n",
       "      <td>1</td>\n",
       "    </tr>\n",
       "    <tr>\n",
       "      <th>1</th>\n",
       "      <td>1</td>\n",
       "      <td>85</td>\n",
       "      <td>66</td>\n",
       "      <td>29</td>\n",
       "      <td>0</td>\n",
       "      <td>26.6</td>\n",
       "      <td>0.351</td>\n",
       "      <td>31</td>\n",
       "      <td>0</td>\n",
       "    </tr>\n",
       "    <tr>\n",
       "      <th>2</th>\n",
       "      <td>8</td>\n",
       "      <td>183</td>\n",
       "      <td>64</td>\n",
       "      <td>0</td>\n",
       "      <td>0</td>\n",
       "      <td>23.3</td>\n",
       "      <td>0.672</td>\n",
       "      <td>32</td>\n",
       "      <td>1</td>\n",
       "    </tr>\n",
       "  </tbody>\n",
       "</table>\n",
       "</div>"
      ],
      "text/plain": [
       "   Pregnancies  Glucose  BloodPressure  SkinThickness  Insulin   BMI  \\\n",
       "0            6      148             72             35        0  33.6   \n",
       "1            1       85             66             29        0  26.6   \n",
       "2            8      183             64              0        0  23.3   \n",
       "\n",
       "   DiabetesPedigreeFunction  Age  Outcome  \n",
       "0                     0.627   50        1  \n",
       "1                     0.351   31        0  \n",
       "2                     0.672   32        1  "
      ]
     },
     "execution_count": 63,
     "metadata": {},
     "output_type": "execute_result"
    }
   ],
   "source": [
    "data=pd.read_csv('diabetes.csv')\n",
    "data.head(3)"
   ]
  },
  {
   "cell_type": "code",
   "execution_count": 66,
   "metadata": {},
   "outputs": [],
   "source": [
    "data_x=data[[col for col in data.columns if col!='Outcome']]\n",
    "data_y=data['Outcome']"
   ]
  },
  {
   "cell_type": "code",
   "execution_count": 67,
   "metadata": {},
   "outputs": [],
   "source": [
    " x_train,x_test,y_train,y_test=train_test_split(data_x,data_y,test_size=0.25,random_state=45)"
   ]
  },
  {
   "cell_type": "code",
   "execution_count": 68,
   "metadata": {},
   "outputs": [],
   "source": [
    "model=bagging.BaggingClassifier(n_estimators=200)"
   ]
  },
  {
   "cell_type": "code",
   "execution_count": 70,
   "metadata": {},
   "outputs": [
    {
     "data": {
      "text/plain": [
       "BaggingClassifier(base_estimator=None, bootstrap=True,\n",
       "         bootstrap_features=False, max_features=1.0, max_samples=0.9,\n",
       "         n_estimators=200, n_jobs=None, oob_score=False, random_state=None,\n",
       "         verbose=0, warm_start=False)"
      ]
     },
     "execution_count": 70,
     "metadata": {},
     "output_type": "execute_result"
    }
   ],
   "source": [
    "model.max_samples=0.9\n",
    "model.fit(x_train,y_train)"
   ]
  },
  {
   "cell_type": "code",
   "execution_count": 72,
   "metadata": {},
   "outputs": [],
   "source": [
    "y_pred=model.predict(x_test)"
   ]
  },
  {
   "cell_type": "code",
   "execution_count": 73,
   "metadata": {},
   "outputs": [
    {
     "data": {
      "text/plain": [
       "0.734375"
      ]
     },
     "execution_count": 73,
     "metadata": {},
     "output_type": "execute_result"
    }
   ],
   "source": [
    "metrics.accuracy_score(y_pred,y_test)"
   ]
  },
  {
   "cell_type": "code",
   "execution_count": 100,
   "metadata": {},
   "outputs": [
    {
     "data": {
      "text/plain": [
       "[0.7552083333333334,\n",
       " 0.734375,\n",
       " 0.7447916666666666,\n",
       " 0.7395833333333334,\n",
       " 0.7395833333333334,\n",
       " 0.75,\n",
       " 0.7291666666666666,\n",
       " 0.7395833333333334,\n",
       " 0.7447916666666666,\n",
       " 0.7395833333333334,\n",
       " 0.7291666666666666,\n",
       " 0.7447916666666666,\n",
       " 0.7552083333333334,\n",
       " 0.7447916666666666,\n",
       " 0.7395833333333334,\n",
       " 0.7552083333333334,\n",
       " 0.7395833333333334,\n",
       " 0.734375,\n",
       " 0.75,\n",
       " 0.7552083333333334,\n",
       " 0.734375,\n",
       " 0.7552083333333334,\n",
       " 0.7447916666666666,\n",
       " 0.7447916666666666,\n",
       " 0.7395833333333334,\n",
       " 0.734375,\n",
       " 0.734375,\n",
       " 0.7395833333333334,\n",
       " 0.7395833333333334,\n",
       " 0.7395833333333334]"
      ]
     },
     "execution_count": 100,
     "metadata": {},
     "output_type": "execute_result"
    }
   ],
   "source": [
    "l1=[]\n",
    "for i in range (30):\n",
    "            from sklearn.model_selection import train_test_split\n",
    "            x_train,x_test,y_train,y_test=train_test_split(data_x,data_y,test_size=0.25,random_state=45)\n",
    "            model=RandomForestClassifier(1000)\n",
    "            model=model.fit(x_train,y_train)\n",
    "            y_train_pred=model.predict(x_train)\n",
    "            y_test_pred=model.predict(x_test)\n",
    "           # print('train accu' , metrics.accuracy_score(y_train,y_train_pred))\n",
    "            l1.append(metrics.accuracy_score(y_test,y_test_pred))\n",
    "l1"
   ]
  },
  {
   "cell_type": "code",
   "execution_count": 96,
   "metadata": {},
   "outputs": [
    {
     "data": {
      "text/plain": [
       "[0.7395833333333334,\n",
       " 0.7395833333333334,\n",
       " 0.75,\n",
       " 0.7395833333333334,\n",
       " 0.7447916666666666,\n",
       " 0.7395833333333334,\n",
       " 0.7552083333333334,\n",
       " 0.7395833333333334,\n",
       " 0.7395833333333334,\n",
       " 0.75,\n",
       " 0.7291666666666666,\n",
       " 0.7395833333333334,\n",
       " 0.734375,\n",
       " 0.7447916666666666,\n",
       " 0.7447916666666666,\n",
       " 0.7447916666666666,\n",
       " 0.7395833333333334,\n",
       " 0.734375,\n",
       " 0.7291666666666666,\n",
       " 0.75,\n",
       " 0.7291666666666666,\n",
       " 0.7239583333333334,\n",
       " 0.7291666666666666,\n",
       " 0.7291666666666666,\n",
       " 0.734375,\n",
       " 0.7395833333333334,\n",
       " 0.7447916666666666,\n",
       " 0.7395833333333334,\n",
       " 0.734375,\n",
       " 0.75]"
      ]
     },
     "execution_count": 96,
     "metadata": {},
     "output_type": "execute_result"
    }
   ],
   "source": [
    "l2=[]\n",
    "for i in range (30):\n",
    "            from sklearn.model_selection import train_test_split\n",
    "            x_train,x_test,y_train,y_test=train_test_split(data_x,data_y,test_size=0.25,random_state=45)\n",
    "            model=bagging.BaggingClassifier(n_estimators=500)\n",
    "            model=model.fit(x_train,y_train)\n",
    "            y_train_pred=model.predict(x_train)\n",
    "            y_test_pred=model.predict(x_test)\n",
    "            #print('train accu' , metrics.accuracy_score(y_train,y_train_pred))\n",
    "            l2.append(metrics.accuracy_score(y_test,y_test_pred))\n",
    "l2"
   ]
  },
  {
   "cell_type": "code",
   "execution_count": 97,
   "metadata": {},
   "outputs": [
    {
     "data": {
      "text/plain": [
       "[0.7083333333333334,\n",
       " 0.703125,\n",
       " 0.703125,\n",
       " 0.6979166666666666,\n",
       " 0.6979166666666666,\n",
       " 0.703125,\n",
       " 0.703125,\n",
       " 0.7135416666666666,\n",
       " 0.6979166666666666,\n",
       " 0.703125,\n",
       " 0.6927083333333334,\n",
       " 0.6927083333333334,\n",
       " 0.6875,\n",
       " 0.6979166666666666,\n",
       " 0.6979166666666666,\n",
       " 0.703125,\n",
       " 0.7083333333333334,\n",
       " 0.6927083333333334,\n",
       " 0.7135416666666666,\n",
       " 0.703125,\n",
       " 0.6927083333333334,\n",
       " 0.6927083333333334,\n",
       " 0.6979166666666666,\n",
       " 0.6927083333333334,\n",
       " 0.6927083333333334,\n",
       " 0.703125,\n",
       " 0.6979166666666666,\n",
       " 0.703125,\n",
       " 0.6979166666666666,\n",
       " 0.6927083333333334]"
      ]
     },
     "execution_count": 97,
     "metadata": {},
     "output_type": "execute_result"
    }
   ],
   "source": [
    "l3=[]\n",
    "for i in range (30):\n",
    "            from sklearn.model_selection import train_test_split\n",
    "            x_train,x_test,y_train,y_test=train_test_split(data_x,data_y,test_size=0.25,random_state=45)\n",
    "            model=DecisionTreeClassifier(criterion='gini')\n",
    "            model=model.fit(x_train,y_train)\n",
    "            y_train_pred=model.predict(x_train)\n",
    "            y_test_pred=model.predict(x_test)\n",
    "            #print('train accu' , metrics.accuracy_score(y_train,y_train_pred))\n",
    "            l3.append(metrics.accuracy_score(y_test,y_test_pred))\n",
    "l3"
   ]
  },
  {
   "cell_type": "code",
   "execution_count": 101,
   "metadata": {},
   "outputs": [],
   "source": [
    "dat=pd.DataFrame(columns=['f1','f2'])\n",
    "dat['f1']=l1+l2+l3\n",
    "dat['f2']=['RF']*30+['BG']*30+['DT']*30"
   ]
  },
  {
   "cell_type": "code",
   "execution_count": 102,
   "metadata": {},
   "outputs": [
    {
     "data": {
      "text/plain": [
       "<matplotlib.axes._subplots.AxesSubplot at 0x1c431f96160>"
      ]
     },
     "execution_count": 102,
     "metadata": {},
     "output_type": "execute_result"
    },
    {
     "data": {
      "image/png": "[encoded data removed]",
      "text/plain": [
       "<Figure size 432x288 with 1 Axes>"
      ]
     },
     "metadata": {
      "needs_background": "light"
     },
     "output_type": "display_data"
    }
   ],
   "source": [
    "sns.boxplot(dat['f2'],dat['f1'])"
   ]
  },
  {
   "cell_type": "code",
   "execution_count": null,
   "metadata": {},
   "outputs": [],
   "source": []
  }
 ],
 "metadata": {
  "kernelspec": {
   "display_name": "Python 3",
   "language": "python",
   "name": "python3"
  },
  "language_info": {
   "codemirror_mode": {
    "name": "ipython",
    "version": 3
   },
   "file_extension": ".py",
   "mimetype": "text/x-python",
   "name": "python",
   "nbconvert_exporter": "python",
   "pygments_lexer": "ipython3",
   "version": "3.7.3"
  }
 },
 "nbformat": 4,
 "nbformat_minor": 2
}
